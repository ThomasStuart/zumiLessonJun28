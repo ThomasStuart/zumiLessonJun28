{
 "cells": [
  {
   "cell_type": "code",
   "execution_count": 1,
   "metadata": {},
   "outputs": [],
   "source": [
    "#Route1Encrpyted  = 1$KbK -> Sound, Right,Forward,Left,Forward "
   ]
  },
  {
   "cell_type": "code",
   "execution_count": 18,
   "metadata": {
    "scrolled": true
   },
   "outputs": [
    {
     "name": "stdout",
     "output_type": "stream",
     "text": [
      "forward\n",
      "Error\n"
     ]
    }
   ],
   "source": [
    "def lookup( key ):\n",
    "    \n",
    "    if   key == 'K' or key == 'k':\n",
    "        return 'forward'\n",
    "    elif key == '@':\n",
    "        return 'reverse'\n",
    "    elif key == 'b':\n",
    "        return 'left'\n",
    "    elif key == '$':\n",
    "        return 'right'\n",
    "    elif key == '1':\n",
    "        return 'sound'\n",
    "    elif key == 'X' or key == 'x':\n",
    "        return 'spin'\n",
    "    else:\n",
    "        return 'Error'\n",
    "    \n",
    "# print( lookup('K') ) # 'forward'\n",
    "# print( lookup('$') ) # 'right'\n",
    "# print( lookup('X') ) # 'spin'\n",
    "## \n",
    "print( lookup('k') ) # 'forward'\n",
    "print( lookup('6') ) # 'ERROR'"
   ]
  },
  {
   "cell_type": "code",
   "execution_count": 19,
   "metadata": {},
   "outputs": [
    {
     "name": "stdout",
     "output_type": "stream",
     "text": [
      "['sound', 'right', 'forward', 'left', 'forward']\n",
      "['reverse', 'left', 'spin']\n",
      "['left', 'forward', 'right']\n",
      "Error\n"
     ]
    }
   ],
   "source": [
    "def decrypt( message ):\n",
    "    dList = []  \n",
    "    \n",
    "    # translate using a for loop \n",
    "    for i in range(len(message)):\n",
    "        eChar = message[i]\n",
    "        dChar = lookup(eChar)\n",
    "        dList.append(dChar)\n",
    "    \n",
    "    return dList\n",
    "\n",
    "print( decrypt(\"1$KbK\") )   # -> dList = [\"Sound\", \"Right\", \"Forward\", \"Left\", \"Forward\"]\n",
    "print( decrypt(\"@bX\") )     # -> dList = [Reverse, left, spin]\n",
    "print( decrypt(\"bK$\") )    # -> dList = [Left, Forward, right]\n",
    "\n",
    "print( decrypt(\"bE@\"))     # 'Error'"
   ]
  },
  {
   "cell_type": "code",
   "execution_count": 22,
   "metadata": {},
   "outputs": [
    {
     "data": {
      "text/plain": [
       "'Left->Right->Forward'"
      ]
     },
     "execution_count": 22,
     "metadata": {},
     "output_type": "execute_result"
    }
   ],
   "source": [
    "from zumi.util.screen import Screen\n",
    "import time\n",
    "screen = Screen()\n",
    "\n",
    "def dListToString ( dList ):\n",
    "    s = \"\"\n",
    "    \n",
    "    for i in range(len(dList)):\n",
    "        word = dList[i]\n",
    "        \n",
    "        if i != len(dList)-1:\n",
    "            s += word + '->'\n",
    "        else:\n",
    "            s += word\n",
    "    \n",
    "    screen.draw_text(s)\n",
    "    return s\n",
    "\n",
    "dListToString( dList=['Sound', 'Route'])           # s-> 'Sound->Route'  \n",
    "dListToString( dList=['Left', 'Right', 'Forward']) # s-> 'Left->Right->Forward' "
   ]
  },
  {
   "cell_type": "code",
   "execution_count": 24,
   "metadata": {},
   "outputs": [
    {
     "name": "stdout",
     "output_type": "stream",
     "text": [
      "Starting Zumi \n",
      "Pi Zero I2C is available\n",
      "Verified Pi Zero is the same\n",
      "Gyroscope previously calibrated\n",
      "Zumi board detected\n",
      "OLED Screen detected\n",
      "Gyroscope & Accelerometer detected\n"
     ]
    }
   ],
   "source": [
    "from zumi.zumi import Zumi\n",
    "from zumi.protocol import Note\n",
    "zumi   = Zumi()\n",
    "\n",
    "def driveRoute( dLsit ): \n",
    "    \n",
    "    for i in range( len(dList) ):\n",
    "        instruction = dList[i]\n",
    "        \n",
    "        if   instruction == 'sound':\n",
    "            zumi.play_note(Note.C4)\n",
    "        elif instruction == 'forward':\n",
    "            zumi.forward(40,  2)\n",
    "        elif instruction == 'reverse':\n",
    "            zumi.reverse(40, 2)\n",
    "        elif instruction == 'left':\n",
    "            zumi.turn_left()\n",
    "        elif instruction == 'right':\n",
    "            zumi.turn_right()\n",
    "        else:\n",
    "            #TODO:: spin \n",
    "            print('spin')"
   ]
  },
  {
   "cell_type": "code",
   "execution_count": 25,
   "metadata": {},
   "outputs": [
    {
     "name": "stdout",
     "output_type": "stream",
     "text": [
      "Starting Zumi \n",
      "Pi Zero I2C is available\n",
      "Verified Pi Zero is the same\n",
      "Gyroscope previously calibrated\n",
      "Zumi board detected\n",
      "OLED Screen detected\n",
      "Gyroscope & Accelerometer detected\n"
     ]
    }
   ],
   "source": [
    "from zumi.zumi import Zumi\n",
    "from zumi.util.screen import Screen\n",
    "from zumi.protocol import Note\n",
    "zumi   = Zumi()\n",
    "screen = Screen()\n",
    "\n",
    "# Given \n",
    "Route1Encrpyted  = \"1$KbK\"\n",
    "# perform steps 1-3 \n",
    "\n",
    "# 1. decrypt message\n",
    "dList = decrypt( Route1Encrpyted )\n",
    "# 2. display dMessage on Zumi's screen\n",
    "sRoute   = dListToString ( dList )\n",
    "# 3. drive rotue \n",
    "driveRoute(dList)"
   ]
  },
  {
   "cell_type": "code",
   "execution_count": null,
   "metadata": {},
   "outputs": [],
   "source": [
    "def getRandomCharacter():\n",
    "    pass \n",
    "\n",
    "def encrypt( desiredLengthMessage, seed ):\n",
    "    # ideas?\n",
    "    # if desiredLengthMessage == 5 -> call getRandomCharacter() 5 times\n",
    "    # if desiredLengthMessage == 1 -> call getRandomCharacter() 1 times\n",
    "    \n",
    "    # create a string eMessage empty \n",
    "    # for loop that runs to desiredLengthMessage\n",
    "        # add to eMessage a random character by calling getRandomCharacter() \n",
    "        \n",
    "    # return eMessage \n",
    "    \n",
    "encrpt(desiredLengthMessage=5, seed=1)   # -> '@KX1b' \n",
    "encrpt(desiredLengthMessage=5, seed=100) # -> 'K$$@1' \n",
    "encrpt(desiredLengthMessage=3, seed=2)   # -> 'bX$'\n",
    "encrpt(desiredLengthMessage=7, seed=3)   # -> '$b1X@K$'"
   ]
  }
 ],
 "metadata": {
  "kernelspec": {
   "display_name": "Python 3",
   "language": "python",
   "name": "python3"
  },
  "language_info": {
   "codemirror_mode": {
    "name": "ipython",
    "version": 3
   },
   "file_extension": ".py",
   "mimetype": "text/x-python",
   "name": "python",
   "nbconvert_exporter": "python",
   "pygments_lexer": "ipython3",
   "version": "3.5.3"
  }
 },
 "nbformat": 4,
 "nbformat_minor": 2
}
